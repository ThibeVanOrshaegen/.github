{
  "nbformat": 4,
  "nbformat_minor": 0,
  "metadata": {
    "colab": {
      "provenance": [],
      "gpuType": "T4",
      "authorship_tag": "ABX9TyNd5YZx8OeEDtogTa8gHAuO",
      "include_colab_link": true
    },
    "kernelspec": {
      "name": "python3",
      "display_name": "Python 3"
    },
    "language_info": {
      "name": "python"
    },
    "accelerator": "GPU"
  },
  "cells": [
    {
      "cell_type": "markdown",
      "metadata": {
        "id": "view-in-github",
        "colab_type": "text"
      },
      "source": [
        "<a href=\"https://colab.research.google.com/github/ThibeVanOrshaegen/.github/blob/main/Oefeningtwee.ipynb\" target=\"_parent\"><img src=\"https://colab.research.google.com/assets/colab-badge.svg\" alt=\"Open In Colab\"/></a>"
      ]
    },
    {
      "cell_type": "code",
      "execution_count": null,
      "metadata": {
        "colab": {
          "base_uri": "https://localhost:8080/"
        },
        "id": "g_Zg1G7ZbzQd",
        "outputId": "da139a37-8d23-4cfb-c8b3-5f63ebe8ec13"
      },
      "outputs": [
        {
          "output_type": "stream",
          "name": "stdout",
          "text": [
            "Overwriting oefeningtwee.cu\n"
          ]
        }
      ],
      "source": [
        "%%writefile oefeningtwee.cu\n",
        "#include <stdio.h>\n",
        "#include <stdlib.h>\n",
        "#include \"cuda_runtime.h\"\n",
        "\n",
        "#define ARRAY_SIZE 256\n",
        "#define NUM_BLOCKS  4\n",
        "#define THREADS_PER_BLOCK 64\n",
        "\n",
        "// Negate kernel voor een enkel block\n",
        "__global__ void negate(int *d_a)\n",
        "{\n",
        "    int idx = threadIdx.x + (blockIdx.x * blockDim.x);\n",
        "    if (idx < ARRAY_SIZE) // Veiligheidscontrole\n",
        "        d_a[idx] = -1 * d_a[idx];\n",
        "}\n",
        "\n",
        "// Negate kernel voor meerdere blocks\n",
        "__global__ void negate_multiblock(int *d_a)\n",
        "{\n",
        "    int idx = threadIdx.x + (blockIdx.x * blockDim.x);\n",
        "    if (idx < ARRAY_SIZE) // Veiligheidscontrole\n",
        "        d_a[idx] = -1 * d_a[idx];\n",
        "}\n",
        "\n",
        "int main(int argc, char *argv[])\n",
        "{\n",
        "    int *h_a, *h_out;\n",
        "    int *d_a;\n",
        "\n",
        "    size_t siz_b = ARRAY_SIZE * sizeof(int);\n",
        "    h_a = (int *) malloc(siz_b);\n",
        "    h_out = (int *) malloc(siz_b);\n",
        "\n",
        "    // Geheugen toewijzen op het device\n",
        "    cudaMalloc((void **)&d_a, siz_b);\n",
        "\n",
        "    // Initialiseren van h_a en h_out\n",
        "    for (int i = 0; i < ARRAY_SIZE; i++) {\n",
        "        h_a[i] = i;\n",
        "        h_out[i] = 0;\n",
        "    }\n",
        "\n",
        "    // Kopieer h_a naar d_a\n",
        "    cudaMemcpy(d_a, h_a, siz_b, cudaMemcpyHostToDevice);\n",
        "\n",
        "    // Instellingen voor de kernel launch\n",
        "    dim3 blocksPerGrid(NUM_BLOCKS);\n",
        "    dim3 threadsPerBlock(THREADS_PER_BLOCK);\n",
        "\n",
        "    // Meting starten\n",
        "    cudaEvent_t start, stop;\n",
        "    float elapsedTime;\n",
        "\n",
        "    cudaEventCreate(&start);\n",
        "    cudaEventCreate(&stop);\n",
        "    cudaEventRecord(start, 0);\n",
        "\n",
        "    // Kernel launch\n",
        "    negate<<<blocksPerGrid, threadsPerBlock>>>(d_a);\n",
        "    // Voor meerdere blocks, gebruik:\n",
        "    // negate_multiblock<<<blocksPerGrid, threadsPerBlock>>>(d_a);\n",
        "\n",
        "    cudaEventRecord(stop, 0);\n",
        "    cudaEventSynchronize(stop);\n",
        "\n",
        "    cudaEventElapsedTime(&elapsedTime, start, stop);\n",
        "    printf(\"Uitvoeringstijd: %3.1f ms\\n\", elapsedTime);\n",
        "\n",
        "    // Kopieer d_a terug naar h_out\n",
        "    cudaMemcpy(h_out, d_a, siz_b, cudaMemcpyDeviceToHost);\n",
        "\n",
        "    // Resultaten tonen\n",
        "    printf(\"Results: \");\n",
        "    for (int i = 0; i < ARRAY_SIZE; i++) {\n",
        "      printf(\"%d, \", h_out[i]);\n",
        "    }\n",
        "    printf(\"\\n\\n\");\n",
        "\n",
        "    // Opruimen\n",
        "    cudaFree(d_a);\n",
        "    free(h_a);\n",
        "    free(h_out);\n",
        "    cudaEventDestroy(start);\n",
        "    cudaEventDestroy(stop);\n",
        "\n",
        "    return 0;\n",
        "}"
      ]
    },
    {
      "cell_type": "code",
      "source": [
        "!nvcc oefeningtwee.cu -o oefeningtwee"
      ],
      "metadata": {
        "id": "-JQ5RG08cGL7"
      },
      "execution_count": null,
      "outputs": []
    },
    {
      "cell_type": "code",
      "source": [
        "!./oefeningtwee"
      ],
      "metadata": {
        "colab": {
          "base_uri": "https://localhost:8080/"
        },
        "id": "o9sNpB4jlFNq",
        "outputId": "b9b4fb64-3499-4912-a1fb-7e79a0508e7f"
      },
      "execution_count": null,
      "outputs": [
        {
          "output_type": "stream",
          "name": "stdout",
          "text": [
            "Uitvoeringstijd: 0.2 ms\n",
            "Results: 0, -1, -2, -3, -4, -5, -6, -7, -8, -9, -10, -11, -12, -13, -14, -15, -16, -17, -18, -19, -20, -21, -22, -23, -24, -25, -26, -27, -28, -29, -30, -31, -32, -33, -34, -35, -36, -37, -38, -39, -40, -41, -42, -43, -44, -45, -46, -47, -48, -49, -50, -51, -52, -53, -54, -55, -56, -57, -58, -59, -60, -61, -62, -63, -64, -65, -66, -67, -68, -69, -70, -71, -72, -73, -74, -75, -76, -77, -78, -79, -80, -81, -82, -83, -84, -85, -86, -87, -88, -89, -90, -91, -92, -93, -94, -95, -96, -97, -98, -99, -100, -101, -102, -103, -104, -105, -106, -107, -108, -109, -110, -111, -112, -113, -114, -115, -116, -117, -118, -119, -120, -121, -122, -123, -124, -125, -126, -127, -128, -129, -130, -131, -132, -133, -134, -135, -136, -137, -138, -139, -140, -141, -142, -143, -144, -145, -146, -147, -148, -149, -150, -151, -152, -153, -154, -155, -156, -157, -158, -159, -160, -161, -162, -163, -164, -165, -166, -167, -168, -169, -170, -171, -172, -173, -174, -175, -176, -177, -178, -179, -180, -181, -182, -183, -184, -185, -186, -187, -188, -189, -190, -191, -192, -193, -194, -195, -196, -197, -198, -199, -200, -201, -202, -203, -204, -205, -206, -207, -208, -209, -210, -211, -212, -213, -214, -215, -216, -217, -218, -219, -220, -221, -222, -223, -224, -225, -226, -227, -228, -229, -230, -231, -232, -233, -234, -235, -236, -237, -238, -239, -240, -241, -242, -243, -244, -245, -246, -247, -248, -249, -250, -251, -252, -253, -254, -255, \n",
            "\n"
          ]
        }
      ]
    }
  ]
}
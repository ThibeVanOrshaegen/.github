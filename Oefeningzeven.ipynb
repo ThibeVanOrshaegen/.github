{
  "nbformat": 4,
  "nbformat_minor": 0,
  "metadata": {
    "colab": {
      "provenance": [],
      "gpuType": "T4",
      "authorship_tag": "ABX9TyMdl4NpOfMkuHrxXphFefLI",
      "include_colab_link": true
    },
    "kernelspec": {
      "name": "python3",
      "display_name": "Python 3"
    },
    "language_info": {
      "name": "python"
    },
    "accelerator": "GPU"
  },
  "cells": [
    {
      "cell_type": "markdown",
      "metadata": {
        "id": "view-in-github",
        "colab_type": "text"
      },
      "source": [
        "<a href=\"https://colab.research.google.com/github/ThibeVanOrshaegen/.github/blob/main/Oefeningzeven.ipynb\" target=\"_parent\"><img src=\"https://colab.research.google.com/assets/colab-badge.svg\" alt=\"Open In Colab\"/></a>"
      ]
    },
    {
      "cell_type": "code",
      "execution_count": 1,
      "metadata": {
        "colab": {
          "base_uri": "https://localhost:8080/"
        },
        "id": "JCfkdc6q1mZy",
        "outputId": "528fb5a5-b3a5-4a0b-ef62-cbe2cf9a13b7"
      },
      "outputs": [
        {
          "output_type": "stream",
          "name": "stdout",
          "text": [
            "Writing oefeningzeven.cu\n"
          ]
        }
      ],
      "source": [
        "%%writefile oefeningzeven.cu\n",
        "#include <iostream>\n",
        "#include <cuda_runtime.h>\n",
        "\n",
        "const int N = 1000000; // Aantal elementen in de array\n",
        "\n",
        "// Kernel om elke waarde in de array te verdubbelen\n",
        "__global__ void doubleArrayKernel(int *array) {\n",
        "    int tid = blockIdx.x * blockDim.x + threadIdx.x;\n",
        "    if (tid < N) {\n",
        "        array[tid] *= 2;\n",
        "    }\n",
        "}\n",
        "\n",
        "int main() {\n",
        "    int *h_array, *d_array;\n",
        "    size_t size = N * sizeof(int);\n",
        "\n",
        "    // Host array initialiseren\n",
        "    h_array = new int[N];\n",
        "    for (int i = 0; i < N; ++i) {\n",
        "        h_array[i] = i;\n",
        "    }\n",
        "\n",
        "    // Device array initialiseren\n",
        "    cudaMalloc(&d_array, size);\n",
        "    cudaMemcpy(d_array, h_array, size, cudaMemcpyHostToDevice);\n",
        "\n",
        "    // Kernelconfiguratie\n",
        "    int blockSize = 256;\n",
        "    int numBlocks = (N + blockSize - 1) / blockSize;\n",
        "\n",
        "    // CUDA events voor timing\n",
        "    cudaEvent_t start, stop;\n",
        "    cudaEventCreate(&start);\n",
        "    cudaEventCreate(&stop);\n",
        "\n",
        "    // Start event opnemen\n",
        "    cudaEventRecord(start);\n",
        "\n",
        "    // Kernel uitvoeren om de array te verdubbelen\n",
        "    doubleArrayKernel<<<numBlocks, blockSize>>>(d_array);\n",
        "\n",
        "    // Stop event opnemen\n",
        "    cudaEventRecord(stop);\n",
        "    cudaEventSynchronize(stop);\n",
        "\n",
        "    // Bereken de doorlooptijd\n",
        "    float milliseconds = 0;\n",
        "    cudaEventElapsedTime(&milliseconds, start, stop);\n",
        "    std::cout << \"Tijd voor kerneluitvoering: \" << milliseconds << \" ms\" << std::endl;\n",
        "\n",
        "    // Resultaat terug naar de host kopiëren en controleren\n",
        "    cudaMemcpy(h_array, d_array, size, cudaMemcpyDeviceToHost);\n",
        "    for (int i = 0; i < 10; ++i) {\n",
        "        std::cout << \"Waarde op index \" << i << \": \" << h_array[i] << std::endl;\n",
        "    }\n",
        "\n",
        "    // Geheugen vrijgeven\n",
        "    delete[] h_array;\n",
        "    cudaFree(d_array);\n",
        "    cudaEventDestroy(start);\n",
        "    cudaEventDestroy(stop);\n",
        "\n",
        "    return 0;\n",
        "}"
      ]
    },
    {
      "cell_type": "code",
      "source": [
        "!nvcc oefeningzeven.cu -o oefeningzeven"
      ],
      "metadata": {
        "id": "UDVPkV6k1zBT"
      },
      "execution_count": 2,
      "outputs": []
    },
    {
      "cell_type": "code",
      "source": [
        "!./oefeningzeven"
      ],
      "metadata": {
        "colab": {
          "base_uri": "https://localhost:8080/"
        },
        "id": "4AbZxax612uo",
        "outputId": "ad2b9974-26d7-4588-d4d9-e043acd7a3a8"
      },
      "execution_count": 3,
      "outputs": [
        {
          "output_type": "stream",
          "name": "stdout",
          "text": [
            "Tijd voor kerneluitvoering: 119.934 ms\n",
            "Waarde op index 0: 0\n",
            "Waarde op index 1: 2\n",
            "Waarde op index 2: 4\n",
            "Waarde op index 3: 6\n",
            "Waarde op index 4: 8\n",
            "Waarde op index 5: 10\n",
            "Waarde op index 6: 12\n",
            "Waarde op index 7: 14\n",
            "Waarde op index 8: 16\n",
            "Waarde op index 9: 18\n"
          ]
        }
      ]
    }
  ]
}
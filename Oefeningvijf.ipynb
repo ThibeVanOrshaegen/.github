{
  "nbformat": 4,
  "nbformat_minor": 0,
  "metadata": {
    "colab": {
      "provenance": [],
      "gpuType": "T4",
      "authorship_tag": "ABX9TyOhRD3r2Gh99Pv08JBTCfH5",
      "include_colab_link": true
    },
    "kernelspec": {
      "name": "python3",
      "display_name": "Python 3"
    },
    "language_info": {
      "name": "python"
    },
    "accelerator": "GPU"
  },
  "cells": [
    {
      "cell_type": "markdown",
      "metadata": {
        "id": "view-in-github",
        "colab_type": "text"
      },
      "source": [
        "<a href=\"https://colab.research.google.com/github/ThibeVanOrshaegen/.github/blob/main/Oefeningvijf.ipynb\" target=\"_parent\"><img src=\"https://colab.research.google.com/assets/colab-badge.svg\" alt=\"Open In Colab\"/></a>"
      ]
    },
    {
      "cell_type": "code",
      "execution_count": 1,
      "metadata": {
        "colab": {
          "base_uri": "https://localhost:8080/"
        },
        "id": "4GmJRWWsxL75",
        "outputId": "5295d062-1cdb-451d-c8ca-2fa4371090e3"
      },
      "outputs": [
        {
          "output_type": "stream",
          "name": "stdout",
          "text": [
            "Writing oefeningdrie.cu\n"
          ]
        }
      ],
      "source": [
        "%%writefile oefeningdrie.cu\n",
        "#include <stdio.h>\n",
        "\n",
        "// Kernel om twee arrays op te tellen\n",
        "__global__ void addKernel(int *a, int *b, int *c, int n) {\n",
        "    int tid = blockIdx.x * blockDim.x + threadIdx.x;\n",
        "    if (tid < n)\n",
        "        c[tid] = a[tid] + b[tid];\n",
        "}\n",
        "\n",
        "int main() {\n",
        "    int n = 100000; // Aantal elementen in de arrays\n",
        "\n",
        "    // Pageable Memory\n",
        "    int *a, *b, *c;\n",
        "    cudaMalloc(&a, n * sizeof(int));\n",
        "    cudaMalloc(&b, n * sizeof(int));\n",
        "    cudaMalloc(&c, n * sizeof(int));\n",
        "\n",
        "    // Pinned Memory\n",
        "    int *a_pinned, *b_pinned, *c_pinned;\n",
        "    cudaMallocHost(&a_pinned, n * sizeof(int));\n",
        "    cudaMallocHost(&b_pinned, n * sizeof(int));\n",
        "    cudaMallocHost(&c_pinned, n * sizeof(int));\n",
        "\n",
        "    // Mapped Memory\n",
        "    int *a_mapped, *b_mapped, *c_mapped;\n",
        "    cudaHostAlloc(&a_mapped, n * sizeof(int), cudaHostAllocMapped);\n",
        "    cudaHostAlloc(&b_mapped, n * sizeof(int), cudaHostAllocMapped);\n",
        "    cudaHostAlloc(&c_mapped, n * sizeof(int), cudaHostAllocMapped);\n",
        "\n",
        "    // Unified Memory\n",
        "    int *a_unified, *b_unified, *c_unified;\n",
        "    cudaMallocManaged(&a_unified, n * sizeof(int));\n",
        "    cudaMallocManaged(&b_unified, n * sizeof(int));\n",
        "    cudaMallocManaged(&c_unified, n * sizeof(int));\n",
        "\n",
        "    // Vul de arrays met data\n",
        "    for (int i = 0; i < n; ++i) {\n",
        "        a_pinned[i] = i;\n",
        "        b_pinned[i] = i;\n",
        "        a_mapped[i] = i;\n",
        "        b_mapped[i] = i;\n",
        "        a_unified[i] = i;\n",
        "        b_unified[i] = i;\n",
        "    }\n",
        "\n",
        "    // Voer kernel uit met Pageable Memory\n",
        "    cudaMemcpy(a, a_pinned, n * sizeof(int), cudaMemcpyHostToDevice);\n",
        "    cudaMemcpy(b, b_pinned, n * sizeof(int), cudaMemcpyHostToDevice);\n",
        "    addKernel<<<(n + 255) / 256, 256>>>(a, b, c, n);\n",
        "    cudaMemcpy(c_pinned, c, n * sizeof(int), cudaMemcpyDeviceToHost);\n",
        "\n",
        "    // Voer kernel uit met Pinned Memory\n",
        "    addKernel<<<(n + 255) / 256, 256>>>(a_pinned, b_pinned, c_pinned, n);\n",
        "\n",
        "    // Voer kernel uit met Mapped Memory\n",
        "    addKernel<<<(n + 255) / 256, 256>>>(a_mapped, b_mapped, c_mapped, n);\n",
        "\n",
        "    // Voer kernel uit met Unified Memory\n",
        "    addKernel<<<(n + 255) / 256, 256>>>(a_unified, b_unified, c_unified, n);\n",
        "    cudaDeviceSynchronize();\n",
        "\n",
        "    // Check resultaten (voor Unified Memory)\n",
        "    for (int i = 0; i < 10; ++i) {\n",
        "        printf(\"%d + %d = %d\\n\", a_unified[i], b_unified[i], c_unified[i]);\n",
        "    }\n",
        "\n",
        "    // Geheugen vrijgeven\n",
        "    cudaFree(a);\n",
        "    cudaFree(b);\n",
        "    cudaFree(c);\n",
        "    cudaFreeHost(a_pinned);\n",
        "    cudaFreeHost(b_pinned);\n",
        "    cudaFreeHost(c_pinned);\n",
        "    cudaFreeHost(a_mapped);\n",
        "    cudaFreeHost(b_mapped);\n",
        "    cudaFreeHost(c_mapped);\n",
        "    cudaFree(a_unified);\n",
        "    cudaFree(b_unified);\n",
        "    cudaFree(c_unified);\n",
        "\n",
        "    return 0;\n",
        "}\n"
      ]
    },
    {
      "cell_type": "code",
      "source": [
        "!nvcc oefeningdrie.cu -o oefeningdrie"
      ],
      "metadata": {
        "id": "56WxtGQYxRpC"
      },
      "execution_count": 2,
      "outputs": []
    },
    {
      "cell_type": "code",
      "source": [
        "!./oefeningdrie"
      ],
      "metadata": {
        "colab": {
          "base_uri": "https://localhost:8080/"
        },
        "id": "x2fA8Cg_xUGi",
        "outputId": "39e634c2-db55-4eeb-e19e-91a22de480cd"
      },
      "execution_count": 3,
      "outputs": [
        {
          "output_type": "stream",
          "name": "stdout",
          "text": [
            "0 + 0 = 0\n",
            "1 + 1 = 2\n",
            "2 + 2 = 4\n",
            "3 + 3 = 6\n",
            "4 + 4 = 8\n",
            "5 + 5 = 10\n",
            "6 + 6 = 12\n",
            "7 + 7 = 14\n",
            "8 + 8 = 16\n",
            "9 + 9 = 18\n"
          ]
        }
      ]
    }
  ]
}
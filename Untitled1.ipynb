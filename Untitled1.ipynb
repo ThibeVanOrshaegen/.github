{
  "nbformat": 4,
  "nbformat_minor": 0,
  "metadata": {
    "colab": {
      "provenance": [],
      "gpuType": "T4",
      "authorship_tag": "ABX9TyNPWtNfk7iqKZ2h+QEx/nr/",
      "include_colab_link": true
    },
    "kernelspec": {
      "name": "python3",
      "display_name": "Python 3"
    },
    "language_info": {
      "name": "python"
    },
    "accelerator": "GPU"
  },
  "cells": [
    {
      "cell_type": "markdown",
      "metadata": {
        "id": "view-in-github",
        "colab_type": "text"
      },
      "source": [
        "<a href=\"https://colab.research.google.com/github/ThibeVanOrshaegen/.github/blob/main/Untitled1.ipynb\" target=\"_parent\"><img src=\"https://colab.research.google.com/assets/colab-badge.svg\" alt=\"Open In Colab\"/></a>"
      ]
    },
    {
      "cell_type": "code",
      "execution_count": 1,
      "metadata": {
        "colab": {
          "base_uri": "https://localhost:8080/"
        },
        "id": "M-Pcf06pdfra",
        "outputId": "a376c8aa-9565-428c-f4b3-4a91f951353f"
      },
      "outputs": [
        {
          "output_type": "stream",
          "name": "stdout",
          "text": [
            "Cloning into 'stb'...\n",
            "remote: Enumerating objects: 8031, done.\u001b[K\n",
            "remote: Counting objects: 100% (163/163), done.\u001b[K\n",
            "remote: Compressing objects: 100% (84/84), done.\u001b[K\n",
            "remote: Total 8031 (delta 99), reused 105 (delta 78), pack-reused 7868\u001b[K\n",
            "Receiving objects: 100% (8031/8031), 5.59 MiB | 10.31 MiB/s, done.\n",
            "Resolving deltas: 100% (5324/5324), done.\n"
          ]
        }
      ],
      "source": [
        "!git clone https://github.com/nothings/stb.git"
      ]
    },
    {
      "cell_type": "code",
      "source": [
        "!ls\n",
        "!mkdir Cuda_Image\n",
        "!mv /content/stb/stb_image*.* Cuda_Image"
      ],
      "metadata": {
        "colab": {
          "base_uri": "https://localhost:8080/"
        },
        "id": "rAXSZj2udt_T",
        "outputId": "cc9e2a2a-4801-4139-b2bd-81f63a4c0737"
      },
      "execution_count": 2,
      "outputs": [
        {
          "output_type": "stream",
          "name": "stdout",
          "text": [
            "sample_data  stb\n"
          ]
        }
      ]
    },
    {
      "cell_type": "code",
      "source": [
        "!wget -O skyline.jpg https://images-prod-uitdatabank.imgix.net/329eb7c3-df7c-413d-9196-955fd13526af.jpeg\n",
        "%cd Cuda_Image\n",
        "!ls"
      ],
      "metadata": {
        "colab": {
          "base_uri": "https://localhost:8080/"
        },
        "id": "YGEnayGmd0TK",
        "outputId": "37b464b9-0ec3-449a-ad8e-d32b56a0f8cb"
      },
      "execution_count": 3,
      "outputs": [
        {
          "output_type": "stream",
          "name": "stdout",
          "text": [
            "--2024-02-20 12:33:47--  https://images-prod-uitdatabank.imgix.net/329eb7c3-df7c-413d-9196-955fd13526af.jpeg\n",
            "Resolving images-prod-uitdatabank.imgix.net (images-prod-uitdatabank.imgix.net)... 151.101.2.208, 151.101.66.208, 151.101.130.208, ...\n",
            "Connecting to images-prod-uitdatabank.imgix.net (images-prod-uitdatabank.imgix.net)|151.101.2.208|:443... connected.\n",
            "HTTP request sent, awaiting response... 200 OK\n",
            "Length: 2427278 (2.3M) [image/jpeg]\n",
            "Saving to: ‘skyline.jpg’\n",
            "\n",
            "skyline.jpg         100%[===================>]   2.31M  --.-KB/s    in 0.01s   \n",
            "\n",
            "2024-02-20 12:33:48 (173 MB/s) - ‘skyline.jpg’ saved [2427278/2427278]\n",
            "\n",
            "/content/Cuda_Image\n",
            "stb_image.h  stb_image_resize2.h  stb_image_write.h\n"
          ]
        }
      ]
    },
    {
      "cell_type": "code",
      "source": [
        "%%file image_read.c\n",
        "\n",
        "#define STB_IMAGE_IMPLEMENTATION\n",
        "#include \"stb_image.h\"\n",
        "#define STB_IMAGE_WRITE_IMPLEMENTATION\n",
        "#include \"stb_image_write.h\"\n",
        "\n",
        "int main(void)\n",
        "{\n",
        "    int width, height, channels;\n",
        "    unsigned char *img = stbi_load(\"skyline.jpg\", &width, &height, &channels, 0);\n",
        "    if(img == NULL) {\n",
        "          printf(\"Error in loading the image\\n\");\n",
        "          exit(1);\n",
        "     }\n",
        "    printf(\"Loaded image with a width of %dpx, a height of %dpx and %d channels\\n\", width, height, channels);\n",
        "    return 0;\n",
        "}"
      ],
      "metadata": {
        "colab": {
          "base_uri": "https://localhost:8080/"
        },
        "id": "fCDrabEEfFz7",
        "outputId": "638f840f-86b5-4ea0-99f1-266ab56097de"
      },
      "execution_count": 4,
      "outputs": [
        {
          "output_type": "stream",
          "name": "stdout",
          "text": [
            "Writing image_read.c\n"
          ]
        }
      ]
    },
    {
      "cell_type": "code",
      "source": [
        "!gcc -o -Wall -o image_read image_read.c -lm"
      ],
      "metadata": {
        "id": "eYXaB8qEfJC-"
      },
      "execution_count": 5,
      "outputs": []
    },
    {
      "cell_type": "code",
      "source": [
        "!./image_read"
      ],
      "metadata": {
        "colab": {
          "base_uri": "https://localhost:8080/"
        },
        "id": "GwA0dh8IfkXc",
        "outputId": "bed5fd37-b5bc-4b69-ed18-3ace797dbf37"
      },
      "execution_count": 6,
      "outputs": [
        {
          "output_type": "stream",
          "name": "stdout",
          "text": [
            "Error in loading the image\n"
          ]
        }
      ]
    },
    {
      "cell_type": "code",
      "source": [
        "%%file image_read_write_jpg2png.c\n",
        "\n",
        "#define STB_IMAGE_IMPLEMENTATION\n",
        "#include \"stb_image.h\"\n",
        "#define STB_IMAGE_WRITE_IMPLEMENTATION\n",
        "#include \"stb_image_write.h\"\n",
        "\n",
        "int main(void)\n",
        "{\n",
        "    int width, height, channels;\n",
        "    unsigned char *img = stbi_load(\"../skyline.jpg\", &width, &height, &channels, 0);\n",
        "    if(img == NULL) {\n",
        "          printf(\"Error in loading the image\\n\");\n",
        "          exit(1);\n",
        "     }\n",
        "    printf(\"Loaded image with a width of %dpx, a height of %dpx and %d channels\\n\", width, height, channels);\n",
        "    stbi_write_png(\"skyline.png\",width,height,channels,img,width*channels);\n",
        "    stbi_image_free(img);\n",
        "    return 0;\n",
        "}"
      ],
      "metadata": {
        "colab": {
          "base_uri": "https://localhost:8080/"
        },
        "id": "vNHBsFezfqKw",
        "outputId": "50903171-cdc8-42f5-9652-f97eb837ec24"
      },
      "execution_count": 7,
      "outputs": [
        {
          "output_type": "stream",
          "name": "stdout",
          "text": [
            "Writing image_read_write_jpg2png.c\n"
          ]
        }
      ]
    },
    {
      "cell_type": "code",
      "source": [
        "!gcc -o -Wall -o image_read_write_jpg2png image_read_write_jpg2png.c -lm\n",
        "!./image_read_write_jpg2png"
      ],
      "metadata": {
        "colab": {
          "base_uri": "https://localhost:8080/"
        },
        "id": "v0-HAv7Aftkj",
        "outputId": "fc68adae-df2a-46bd-bfa0-a64a7014130f"
      },
      "execution_count": 8,
      "outputs": [
        {
          "output_type": "stream",
          "name": "stdout",
          "text": [
            "Loaded image with a width of 3648px, a height of 2736px and 3 channels\n"
          ]
        }
      ]
    },
    {
      "cell_type": "code",
      "source": [
        "%%file image_jpg_color2gray.c\n",
        "\n",
        "#define STB_IMAGE_IMPLEMENTATION\n",
        "#include \"stb_image.h\"\n",
        "#define STB_IMAGE_WRITE_IMPLEMENTATION\n",
        "#include \"stb_image_write.h\"\n",
        "\n",
        "int main(void)\n",
        "{\n",
        "    int width, height, channels;\n",
        "    unsigned char *img = stbi_load(\"../skyline.jpg\", &width, &height, &channels, 0);\n",
        "    if(img == NULL) {\n",
        "          printf(\"Error in loading the image\\n\");\n",
        "          exit(1);\n",
        "     }\n",
        "    printf(\"Loaded image with a width of %dpx, a height of %dpx and %d channels\\n\", width, height, channels);\n",
        "\n",
        "    // Convert the input image to gray\n",
        "    size_t img_size = width * height * channels;\n",
        "    int gray_channels = channels == 4 ? 2 : 1;\n",
        "    size_t gray_img_size = width * height * gray_channels;\n",
        "\n",
        "    unsigned char *gray_img = malloc(gray_img_size);\n",
        "    if(gray_img == NULL) {\n",
        "        printf(\"Unable to allocate memory for the gray image.\\n\");\n",
        "        exit(1);\n",
        "    }\n",
        "\n",
        "    for(unsigned char *p = img, *pg = gray_img; p != img + img_size; p += channels, pg += gray_channels) {\n",
        "        *pg = (uint8_t)((*p + *(p + 1) + *(p + 2))/3.0);\n",
        "        if(channels == 4) {\n",
        "            *(pg + 1) = *(p + 3);\n",
        "        }\n",
        "    }\n",
        "    stbi_write_jpg(\"skyline_gray.jpg\", width, height, gray_channels, gray_img, 100);\n",
        "    stbi_image_free(img);\n",
        "    return 0;\n",
        "}"
      ],
      "metadata": {
        "colab": {
          "base_uri": "https://localhost:8080/"
        },
        "id": "H4jZ0N_hfzJp",
        "outputId": "e74302d5-59a8-4b12-e796-88ebf41fa858"
      },
      "execution_count": 9,
      "outputs": [
        {
          "output_type": "stream",
          "name": "stdout",
          "text": [
            "Writing image_jpg_color2gray.c\n"
          ]
        }
      ]
    },
    {
      "cell_type": "code",
      "source": [
        "!gcc -o -Wall -o image_jpg_color2gray image_jpg_color2gray.c -lm\n",
        "!./image_jpg_color2gray"
      ],
      "metadata": {
        "colab": {
          "base_uri": "https://localhost:8080/"
        },
        "id": "EXLdxCY5f4dU",
        "outputId": "f57e26a4-54b2-4a9a-b113-85cd8cb24f72"
      },
      "execution_count": 10,
      "outputs": [
        {
          "output_type": "stream",
          "name": "stdout",
          "text": [
            "Loaded image with a width of 3648px, a height of 2736px and 3 channels\n"
          ]
        }
      ]
    },
    {
      "cell_type": "code",
      "source": [
        "%%timeit\n",
        "!./image_jpg_color2gray"
      ],
      "metadata": {
        "colab": {
          "base_uri": "https://localhost:8080/"
        },
        "id": "avbZ70i_f8i8",
        "outputId": "ece5dfd1-5767-4f99-81df-bfd6970d5b24"
      },
      "execution_count": 11,
      "outputs": [
        {
          "output_type": "stream",
          "name": "stdout",
          "text": [
            "Loaded image with a width of 3648px, a height of 2736px and 3 channels\n",
            "Loaded image with a width of 3648px, a height of 2736px and 3 channels\n",
            "Loaded image with a width of 3648px, a height of 2736px and 3 channels\n",
            "Loaded image with a width of 3648px, a height of 2736px and 3 channels\n",
            "Loaded image with a width of 3648px, a height of 2736px and 3 channels\n",
            "Loaded image with a width of 3648px, a height of 2736px and 3 channels\n",
            "Loaded image with a width of 3648px, a height of 2736px and 3 channels\n",
            "Loaded image with a width of 3648px, a height of 2736px and 3 channels\n",
            "1.81 s ± 143 ms per loop (mean ± std. dev. of 7 runs, 1 loop each)\n"
          ]
        }
      ]
    }
  ]
}

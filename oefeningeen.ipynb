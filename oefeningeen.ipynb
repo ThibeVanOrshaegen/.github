{
  "nbformat": 4,
  "nbformat_minor": 0,
  "metadata": {
    "colab": {
      "provenance": [],
      "gpuType": "T4",
      "authorship_tag": "ABX9TyMxhl9ijP8T+EYS275jUN4i",
      "include_colab_link": true
    },
    "kernelspec": {
      "name": "python3",
      "display_name": "Python 3"
    },
    "language_info": {
      "name": "python"
    },
    "accelerator": "GPU"
  },
  "cells": [
    {
      "cell_type": "markdown",
      "metadata": {
        "id": "view-in-github",
        "colab_type": "text"
      },
      "source": [
        "<a href=\"https://colab.research.google.com/github/ThibeVanOrshaegen/.github/blob/main/oefeningeen.ipynb\" target=\"_parent\"><img src=\"https://colab.research.google.com/assets/colab-badge.svg\" alt=\"Open In Colab\"/></a>"
      ]
    },
    {
      "cell_type": "code",
      "execution_count": 23,
      "metadata": {
        "colab": {
          "base_uri": "https://localhost:8080/"
        },
        "id": "Q4Q_4SvzWJHG",
        "outputId": "b91b0bda-f7dc-43a2-c822-b1c92f1083fd"
      },
      "outputs": [
        {
          "output_type": "stream",
          "name": "stdout",
          "text": [
            "Overwriting oefeningeen.cu\n"
          ]
        }
      ],
      "source": [
        "%%writefile oefeningeen.cu\n",
        "#include <stdio.h>\n",
        "#include \"cuda.h\"\n",
        "#include \"cuda_runtime.h\"\n",
        "\n",
        "// Print device properties\n",
        "void printDevProp(cudaDeviceProp devProp)\n",
        "{\n",
        "    printf(\"Major revision number:         %d\\n\",  devProp.major);\n",
        "    printf(\"Minor revision number:         %d\\n\",  devProp.minor);\n",
        "    printf(\"Name:                          %s\\n\",  devProp.name);\n",
        "    printf(\"Total Global Memory:           %lu\\n\", devProp.totalGlobalMem);\n",
        "    printf(\"Clock rate:                    %d\\n\", devProp.clockRate);\n",
        "}\n",
        "\n",
        "int main()\n",
        "{\n",
        "    int devCount;\n",
        "    cudaGetDeviceCount(&devCount);\n",
        "    printf(\"There is/are %d CUDA devices on your system\\r\\n\", devCount);\n",
        "\n",
        "    for (int i = 0; i < devCount; ++i)\n",
        "    {\n",
        "        // Get device properties\n",
        "        printf(\"\\nCUDA Device #%d\\n\", i);\n",
        "        cudaDeviceProp devProp;\n",
        "        cudaGetDeviceProperties(&devProp, i);\n",
        "        printDevProp(devProp);\n",
        "    }\n",
        "    return 0;\n",
        "}"
      ]
    },
    {
      "cell_type": "code",
      "source": [
        "!nvcc oefeningeen.cu -o oefeningeen"
      ],
      "metadata": {
        "id": "1_B1p1xZYMiu"
      },
      "execution_count": 24,
      "outputs": []
    },
    {
      "cell_type": "code",
      "source": [
        "!./oefeningeen"
      ],
      "metadata": {
        "colab": {
          "base_uri": "https://localhost:8080/"
        },
        "id": "zZcCBqXcYY7Y",
        "outputId": "c36b133b-ebe8-43c2-ecc4-e3867c4eb36d"
      },
      "execution_count": 25,
      "outputs": [
        {
          "output_type": "stream",
          "name": "stdout",
          "text": [
            "There is/are 1 CUDA devices on your system\r\n",
            "\n",
            "CUDA Device #0\n",
            "Major revision number:         7\n",
            "Minor revision number:         5\n",
            "Name:                          Tesla T4\n",
            "Total Global Memory:           15835660288\n",
            "Clock rate:                    1590000\n"
          ]
        }
      ]
    }
  ]
}